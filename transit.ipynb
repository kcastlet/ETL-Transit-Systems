{
 "cells": [
  {
   "cell_type": "code",
   "execution_count": 2,
   "metadata": {},
   "outputs": [],
   "source": [
    "import pandas as pd\n",
    "from sqlalchemy import create_engine"
   ]
  },
  {
   "cell_type": "code",
   "execution_count": 3,
   "metadata": {},
   "outputs": [
    {
     "data": {
      "text/html": [
       "<div>\n",
       "<style scoped>\n",
       "    .dataframe tbody tr th:only-of-type {\n",
       "        vertical-align: middle;\n",
       "    }\n",
       "\n",
       "    .dataframe tbody tr th {\n",
       "        vertical-align: top;\n",
       "    }\n",
       "\n",
       "    .dataframe thead th {\n",
       "        text-align: right;\n",
       "    }\n",
       "</style>\n",
       "<table border=\"1\" class=\"dataframe\">\n",
       "  <thead>\n",
       "    <tr style=\"text-align: right;\">\n",
       "      <th></th>\n",
       "      <th>id</th>\n",
       "      <th>name</th>\n",
       "      <th>coords</th>\n",
       "      <th>start_year</th>\n",
       "      <th>url_name</th>\n",
       "      <th>country</th>\n",
       "      <th>country_state</th>\n",
       "    </tr>\n",
       "  </thead>\n",
       "  <tbody>\n",
       "    <tr>\n",
       "      <th>0</th>\n",
       "      <td>5</td>\n",
       "      <td>Aberdeen</td>\n",
       "      <td>POINT(-2.15 57.15)</td>\n",
       "      <td>2017</td>\n",
       "      <td>aberdeen</td>\n",
       "      <td>Scotland</td>\n",
       "      <td>NaN</td>\n",
       "    </tr>\n",
       "    <tr>\n",
       "      <th>1</th>\n",
       "      <td>6</td>\n",
       "      <td>Adelaide</td>\n",
       "      <td>POINT(138.6 -34.91666667)</td>\n",
       "      <td>2017</td>\n",
       "      <td>adelaide</td>\n",
       "      <td>Australia</td>\n",
       "      <td>NaN</td>\n",
       "    </tr>\n",
       "    <tr>\n",
       "      <th>2</th>\n",
       "      <td>7</td>\n",
       "      <td>Algiers</td>\n",
       "      <td>POINT(3 36.83333333)</td>\n",
       "      <td>2017</td>\n",
       "      <td>algiers</td>\n",
       "      <td>Algeria</td>\n",
       "      <td>NaN</td>\n",
       "    </tr>\n",
       "    <tr>\n",
       "      <th>3</th>\n",
       "      <td>9</td>\n",
       "      <td>Ankara</td>\n",
       "      <td>POINT(32.91666667 39.91666667)</td>\n",
       "      <td>2017</td>\n",
       "      <td>ankara</td>\n",
       "      <td>Turkey</td>\n",
       "      <td>NaN</td>\n",
       "    </tr>\n",
       "    <tr>\n",
       "      <th>4</th>\n",
       "      <td>16</td>\n",
       "      <td>Belém</td>\n",
       "      <td>POINT(-48.48333333 -1.466666667)</td>\n",
       "      <td>2017</td>\n",
       "      <td>belem</td>\n",
       "      <td>Brazil</td>\n",
       "      <td>NaN</td>\n",
       "    </tr>\n",
       "  </tbody>\n",
       "</table>\n",
       "</div>"
      ],
      "text/plain": [
       "   id      name                            coords  start_year  url_name  \\\n",
       "0   5  Aberdeen                POINT(-2.15 57.15)        2017  aberdeen   \n",
       "1   6  Adelaide         POINT(138.6 -34.91666667)        2017  adelaide   \n",
       "2   7   Algiers              POINT(3 36.83333333)        2017   algiers   \n",
       "3   9    Ankara    POINT(32.91666667 39.91666667)        2017    ankara   \n",
       "4  16     Belém  POINT(-48.48333333 -1.466666667)        2017     belem   \n",
       "\n",
       "     country country_state  \n",
       "0   Scotland           NaN  \n",
       "1  Australia           NaN  \n",
       "2    Algeria           NaN  \n",
       "3     Turkey           NaN  \n",
       "4     Brazil           NaN  "
      ]
     },
     "execution_count": 3,
     "metadata": {},
     "output_type": "execute_result"
    }
   ],
   "source": [
    "city_file = \"resources/cities.csv\"\n",
    "# Read our transit data into pandas\n",
    "city_df = pd.read_csv(city_file)\n",
    "city_df.head()"
   ]
  },
  {
   "cell_type": "code",
   "execution_count": 4,
   "metadata": {},
   "outputs": [
    {
     "data": {
      "text/html": [
       "<div>\n",
       "<style scoped>\n",
       "    .dataframe tbody tr th:only-of-type {\n",
       "        vertical-align: middle;\n",
       "    }\n",
       "\n",
       "    .dataframe tbody tr th {\n",
       "        vertical-align: top;\n",
       "    }\n",
       "\n",
       "    .dataframe thead th {\n",
       "        text-align: right;\n",
       "    }\n",
       "</style>\n",
       "<table border=\"1\" class=\"dataframe\">\n",
       "  <thead>\n",
       "    <tr style=\"text-align: right;\">\n",
       "      <th></th>\n",
       "      <th>id</th>\n",
       "      <th>name</th>\n",
       "      <th>coords</th>\n",
       "      <th>start_year</th>\n",
       "      <th>url_name</th>\n",
       "      <th>country</th>\n",
       "      <th>country_state</th>\n",
       "    </tr>\n",
       "  </thead>\n",
       "  <tbody>\n",
       "    <tr>\n",
       "      <th>0</th>\n",
       "      <td>5</td>\n",
       "      <td>Aberdeen</td>\n",
       "      <td>POINT(-2.15 57.15)</td>\n",
       "      <td>2017</td>\n",
       "      <td>aberdeen</td>\n",
       "      <td>Scotland</td>\n",
       "      <td>NaN</td>\n",
       "    </tr>\n",
       "    <tr>\n",
       "      <th>1</th>\n",
       "      <td>6</td>\n",
       "      <td>Adelaide</td>\n",
       "      <td>POINT(138.6 -34.91666667)</td>\n",
       "      <td>2017</td>\n",
       "      <td>adelaide</td>\n",
       "      <td>Australia</td>\n",
       "      <td>NaN</td>\n",
       "    </tr>\n",
       "    <tr>\n",
       "      <th>2</th>\n",
       "      <td>7</td>\n",
       "      <td>Algiers</td>\n",
       "      <td>POINT(3 36.83333333)</td>\n",
       "      <td>2017</td>\n",
       "      <td>algiers</td>\n",
       "      <td>Algeria</td>\n",
       "      <td>NaN</td>\n",
       "    </tr>\n",
       "    <tr>\n",
       "      <th>3</th>\n",
       "      <td>9</td>\n",
       "      <td>Ankara</td>\n",
       "      <td>POINT(32.91666667 39.91666667)</td>\n",
       "      <td>2017</td>\n",
       "      <td>ankara</td>\n",
       "      <td>Turkey</td>\n",
       "      <td>NaN</td>\n",
       "    </tr>\n",
       "    <tr>\n",
       "      <th>4</th>\n",
       "      <td>16</td>\n",
       "      <td>Belém</td>\n",
       "      <td>POINT(-48.48333333 -1.466666667)</td>\n",
       "      <td>2017</td>\n",
       "      <td>belem</td>\n",
       "      <td>Brazil</td>\n",
       "      <td>NaN</td>\n",
       "    </tr>\n",
       "  </tbody>\n",
       "</table>\n",
       "</div>"
      ],
      "text/plain": [
       "   id      name                            coords  start_year  url_name  \\\n",
       "0   5  Aberdeen                POINT(-2.15 57.15)        2017  aberdeen   \n",
       "1   6  Adelaide         POINT(138.6 -34.91666667)        2017  adelaide   \n",
       "2   7   Algiers              POINT(3 36.83333333)        2017   algiers   \n",
       "3   9    Ankara    POINT(32.91666667 39.91666667)        2017    ankara   \n",
       "4  16     Belém  POINT(-48.48333333 -1.466666667)        2017     belem   \n",
       "\n",
       "     country country_state  \n",
       "0   Scotland           NaN  \n",
       "1  Australia           NaN  \n",
       "2    Algeria           NaN  \n",
       "3     Turkey           NaN  \n",
       "4     Brazil           NaN  "
      ]
     },
     "execution_count": 4,
     "metadata": {},
     "output_type": "execute_result"
    }
   ],
   "source": [
    "city_file =\"resources/cities.csv\"\n",
    "city_df = pd.read_csv(city_file)\n",
    "city_df.head()"
   ]
  },
  {
   "cell_type": "code",
   "execution_count": 5,
   "metadata": {},
   "outputs": [
    {
     "data": {
      "text/html": [
       "<div>\n",
       "<style scoped>\n",
       "    .dataframe tbody tr th:only-of-type {\n",
       "        vertical-align: middle;\n",
       "    }\n",
       "\n",
       "    .dataframe tbody tr th {\n",
       "        vertical-align: top;\n",
       "    }\n",
       "\n",
       "    .dataframe thead th {\n",
       "        text-align: right;\n",
       "    }\n",
       "</style>\n",
       "<table border=\"1\" class=\"dataframe\">\n",
       "  <thead>\n",
       "    <tr style=\"text-align: right;\">\n",
       "      <th></th>\n",
       "      <th>id</th>\n",
       "      <th>name</th>\n",
       "      <th>geometry</th>\n",
       "      <th>buildstart</th>\n",
       "      <th>opening</th>\n",
       "      <th>closure</th>\n",
       "      <th>city_id</th>\n",
       "    </tr>\n",
       "  </thead>\n",
       "  <tbody>\n",
       "    <tr>\n",
       "      <th>0</th>\n",
       "      <td>7694</td>\n",
       "      <td>Keisei Tsudanuma</td>\n",
       "      <td>POINT(140.024812197129 35.6837744784723)</td>\n",
       "      <td>1921.0</td>\n",
       "      <td>1921.0</td>\n",
       "      <td>999999.0</td>\n",
       "      <td>114</td>\n",
       "    </tr>\n",
       "    <tr>\n",
       "      <th>1</th>\n",
       "      <td>6003</td>\n",
       "      <td>Kossuth Lajos tér</td>\n",
       "      <td>POINT(19.0462376564033 47.5054880717671)</td>\n",
       "      <td>0.0</td>\n",
       "      <td>0.0</td>\n",
       "      <td>999999.0</td>\n",
       "      <td>29</td>\n",
       "    </tr>\n",
       "    <tr>\n",
       "      <th>2</th>\n",
       "      <td>7732</td>\n",
       "      <td>Saint-Charles</td>\n",
       "      <td>POINT(5.3801556 43.3024646)</td>\n",
       "      <td>1973.0</td>\n",
       "      <td>1977.0</td>\n",
       "      <td>999999.0</td>\n",
       "      <td>74</td>\n",
       "    </tr>\n",
       "    <tr>\n",
       "      <th>3</th>\n",
       "      <td>7695</td>\n",
       "      <td>Keisei Makuhari-Hongo</td>\n",
       "      <td>POINT(140.042146725175 35.6726021159981)</td>\n",
       "      <td>1991.0</td>\n",
       "      <td>1991.0</td>\n",
       "      <td>999999.0</td>\n",
       "      <td>114</td>\n",
       "    </tr>\n",
       "    <tr>\n",
       "      <th>4</th>\n",
       "      <td>7726</td>\n",
       "      <td>Chartreux</td>\n",
       "      <td>POINT(5.4014815 43.309129)</td>\n",
       "      <td>1973.0</td>\n",
       "      <td>1977.0</td>\n",
       "      <td>999999.0</td>\n",
       "      <td>74</td>\n",
       "    </tr>\n",
       "  </tbody>\n",
       "</table>\n",
       "</div>"
      ],
      "text/plain": [
       "     id                   name                                  geometry  \\\n",
       "0  7694       Keisei Tsudanuma  POINT(140.024812197129 35.6837744784723)   \n",
       "1  6003      Kossuth Lajos tér  POINT(19.0462376564033 47.5054880717671)   \n",
       "2  7732          Saint-Charles               POINT(5.3801556 43.3024646)   \n",
       "3  7695  Keisei Makuhari-Hongo  POINT(140.042146725175 35.6726021159981)   \n",
       "4  7726              Chartreux                POINT(5.4014815 43.309129)   \n",
       "\n",
       "   buildstart  opening   closure  city_id  \n",
       "0      1921.0   1921.0  999999.0      114  \n",
       "1         0.0      0.0  999999.0       29  \n",
       "2      1973.0   1977.0  999999.0       74  \n",
       "3      1991.0   1991.0  999999.0      114  \n",
       "4      1973.0   1977.0  999999.0       74  "
      ]
     },
     "execution_count": 5,
     "metadata": {},
     "output_type": "execute_result"
    }
   ],
   "source": [
    "station_file = \"resources/stations.csv\"\n",
    "station_df = pd.read_csv(station_file)\n",
    "station_df.head()"
   ]
  },
  {
   "cell_type": "code",
   "execution_count": 6,
   "metadata": {},
   "outputs": [
    {
     "data": {
      "text/html": [
       "<div>\n",
       "<style scoped>\n",
       "    .dataframe tbody tr th:only-of-type {\n",
       "        vertical-align: middle;\n",
       "    }\n",
       "\n",
       "    .dataframe tbody tr th {\n",
       "        vertical-align: top;\n",
       "    }\n",
       "\n",
       "    .dataframe thead th {\n",
       "        text-align: right;\n",
       "    }\n",
       "</style>\n",
       "<table border=\"1\" class=\"dataframe\">\n",
       "  <thead>\n",
       "    <tr style=\"text-align: right;\">\n",
       "      <th></th>\n",
       "      <th>City_Name</th>\n",
       "      <th>Start_Year</th>\n",
       "      <th>Country</th>\n",
       "    </tr>\n",
       "    <tr>\n",
       "      <th>City_ID</th>\n",
       "      <th></th>\n",
       "      <th></th>\n",
       "      <th></th>\n",
       "    </tr>\n",
       "  </thead>\n",
       "  <tbody>\n",
       "    <tr>\n",
       "      <th>5</th>\n",
       "      <td>Aberdeen</td>\n",
       "      <td>2017</td>\n",
       "      <td>Scotland</td>\n",
       "    </tr>\n",
       "    <tr>\n",
       "      <th>6</th>\n",
       "      <td>Adelaide</td>\n",
       "      <td>2017</td>\n",
       "      <td>Australia</td>\n",
       "    </tr>\n",
       "    <tr>\n",
       "      <th>7</th>\n",
       "      <td>Algiers</td>\n",
       "      <td>2017</td>\n",
       "      <td>Algeria</td>\n",
       "    </tr>\n",
       "    <tr>\n",
       "      <th>9</th>\n",
       "      <td>Ankara</td>\n",
       "      <td>2017</td>\n",
       "      <td>Turkey</td>\n",
       "    </tr>\n",
       "    <tr>\n",
       "      <th>16</th>\n",
       "      <td>Belém</td>\n",
       "      <td>2017</td>\n",
       "      <td>Brazil</td>\n",
       "    </tr>\n",
       "  </tbody>\n",
       "</table>\n",
       "</div>"
      ],
      "text/plain": [
       "        City_Name  Start_Year    Country\n",
       "City_ID                                 \n",
       "5        Aberdeen        2017   Scotland\n",
       "6        Adelaide        2017  Australia\n",
       "7         Algiers        2017    Algeria\n",
       "9          Ankara        2017     Turkey\n",
       "16          Belém        2017     Brazil"
      ]
     },
     "execution_count": 6,
     "metadata": {},
     "output_type": "execute_result"
    }
   ],
   "source": [
    "# Create a filtered dataframe from specific columns\n",
    "city_cols = [\"id\", \"name\", \"start_year\",\"country\"]\n",
    "city_transformed= city_df[city_cols].copy()\n",
    "\n",
    "# Rename the column headers\n",
    "city_transformed = city_transformed.rename(columns={\"id\": \"City_ID\",\n",
    "                                                      \"name\": \"City_Name\",\n",
    "                                                      \"start_year\": \"Start_Year\",\n",
    "                                                      \"country\":\"Country\"})\n",
    "\n",
    "# Clean the data by dropping duplicates and setting the index\n",
    "city_transformed.drop_duplicates(\"City_ID\", inplace=True)\n",
    "city_transformed.set_index(\"City_ID\", inplace=True)\n",
    "\n",
    "city_transformed.head()"
   ]
  },
  {
   "cell_type": "code",
   "execution_count": 7,
   "metadata": {},
   "outputs": [
    {
     "data": {
      "text/plain": [
       "City_Name     337\n",
       "Start_Year    337\n",
       "Country       337\n",
       "dtype: int64"
      ]
     },
     "execution_count": 7,
     "metadata": {},
     "output_type": "execute_result"
    }
   ],
   "source": [
    "city_transformed.count()"
   ]
  },
  {
   "cell_type": "code",
   "execution_count": 8,
   "metadata": {},
   "outputs": [
    {
     "data": {
      "text/plain": [
       "City_Name     337\n",
       "Start_Year    337\n",
       "Country       337\n",
       "dtype: int64"
      ]
     },
     "execution_count": 8,
     "metadata": {},
     "output_type": "execute_result"
    }
   ],
   "source": [
    "cities_dropped = city_transformed.dropna()\n",
    "cities_dropped.count()"
   ]
  },
  {
   "cell_type": "code",
   "execution_count": 9,
   "metadata": {},
   "outputs": [],
   "source": [
    "station_cols = [\"id\", \"name\", \"buildstart\", \"opening\",\"city_id\"]\n",
    "station_rename = station_df[station_cols].copy()\n",
    "\n",
    "# Rename the column headers\n",
    "station_rename =station_rename.rename(columns={\"id\": \"Station_ID\",\n",
    "                                                         \"name\": \"Station_Name\",\n",
    "                                                         \"buildstart\": \"Buildstart\",\n",
    "                                                         \"opening\": \"Opening\",\n",
    "                                                        \"city_id\": \"City_ID\"})\n",
    "\n",
    "\n"
   ]
  },
  {
   "cell_type": "code",
   "execution_count": 10,
   "metadata": {},
   "outputs": [],
   "source": [
    "# Set index\n",
    "station_transformed = station_rename.copy()\n"
   ]
  },
  {
   "cell_type": "code",
   "execution_count": 11,
   "metadata": {},
   "outputs": [
    {
     "data": {
      "text/html": [
       "<div>\n",
       "<style scoped>\n",
       "    .dataframe tbody tr th:only-of-type {\n",
       "        vertical-align: middle;\n",
       "    }\n",
       "\n",
       "    .dataframe tbody tr th {\n",
       "        vertical-align: top;\n",
       "    }\n",
       "\n",
       "    .dataframe thead th {\n",
       "        text-align: right;\n",
       "    }\n",
       "</style>\n",
       "<table border=\"1\" class=\"dataframe\">\n",
       "  <thead>\n",
       "    <tr style=\"text-align: right;\">\n",
       "      <th></th>\n",
       "      <th>Station_Name</th>\n",
       "      <th>Buildstart</th>\n",
       "      <th>Opening</th>\n",
       "      <th>City_ID</th>\n",
       "    </tr>\n",
       "    <tr>\n",
       "      <th>Station_ID</th>\n",
       "      <th></th>\n",
       "      <th></th>\n",
       "      <th></th>\n",
       "      <th></th>\n",
       "    </tr>\n",
       "  </thead>\n",
       "  <tbody>\n",
       "    <tr>\n",
       "      <th>7694</th>\n",
       "      <td>Keisei Tsudanuma</td>\n",
       "      <td>1921.0</td>\n",
       "      <td>1921.0</td>\n",
       "      <td>114</td>\n",
       "    </tr>\n",
       "    <tr>\n",
       "      <th>6003</th>\n",
       "      <td>Kossuth Lajos tér</td>\n",
       "      <td>0.0</td>\n",
       "      <td>0.0</td>\n",
       "      <td>29</td>\n",
       "    </tr>\n",
       "    <tr>\n",
       "      <th>7732</th>\n",
       "      <td>Saint-Charles</td>\n",
       "      <td>1973.0</td>\n",
       "      <td>1977.0</td>\n",
       "      <td>74</td>\n",
       "    </tr>\n",
       "    <tr>\n",
       "      <th>7695</th>\n",
       "      <td>Keisei Makuhari-Hongo</td>\n",
       "      <td>1991.0</td>\n",
       "      <td>1991.0</td>\n",
       "      <td>114</td>\n",
       "    </tr>\n",
       "    <tr>\n",
       "      <th>7726</th>\n",
       "      <td>Chartreux</td>\n",
       "      <td>1973.0</td>\n",
       "      <td>1977.0</td>\n",
       "      <td>74</td>\n",
       "    </tr>\n",
       "  </tbody>\n",
       "</table>\n",
       "</div>"
      ],
      "text/plain": [
       "                     Station_Name  Buildstart  Opening  City_ID\n",
       "Station_ID                                                     \n",
       "7694             Keisei Tsudanuma      1921.0   1921.0      114\n",
       "6003            Kossuth Lajos tér         0.0      0.0       29\n",
       "7732                Saint-Charles      1973.0   1977.0       74\n",
       "7695        Keisei Makuhari-Hongo      1991.0   1991.0      114\n",
       "7726                    Chartreux      1973.0   1977.0       74"
      ]
     },
     "execution_count": 11,
     "metadata": {},
     "output_type": "execute_result"
    }
   ],
   "source": [
    "\n",
    "station_transformed.set_index(\"Station_ID\", inplace=True)\n",
    "\n",
    "station_transformed.head()"
   ]
  },
  {
   "cell_type": "code",
   "execution_count": 12,
   "metadata": {},
   "outputs": [
    {
     "data": {
      "text/plain": [
       "Station_Name    14624\n",
       "Buildstart      14719\n",
       "Opening         16102\n",
       "City_ID         16171\n",
       "dtype: int64"
      ]
     },
     "execution_count": 12,
     "metadata": {},
     "output_type": "execute_result"
    }
   ],
   "source": [
    "station_transformed.count()"
   ]
  },
  {
   "cell_type": "code",
   "execution_count": 13,
   "metadata": {},
   "outputs": [
    {
     "data": {
      "text/plain": [
       "Station_Name    13125\n",
       "Buildstart      13125\n",
       "Opening         13125\n",
       "City_ID         13125\n",
       "dtype: int64"
      ]
     },
     "execution_count": 13,
     "metadata": {},
     "output_type": "execute_result"
    }
   ],
   "source": [
    "station_dropped = station_transformed.dropna()\n",
    "station_dropped.count()"
   ]
  },
  {
   "cell_type": "code",
   "execution_count": 14,
   "metadata": {},
   "outputs": [
    {
     "data": {
      "text/html": [
       "<div>\n",
       "<style scoped>\n",
       "    .dataframe tbody tr th:only-of-type {\n",
       "        vertical-align: middle;\n",
       "    }\n",
       "\n",
       "    .dataframe tbody tr th {\n",
       "        vertical-align: top;\n",
       "    }\n",
       "\n",
       "    .dataframe thead th {\n",
       "        text-align: right;\n",
       "    }\n",
       "</style>\n",
       "<table border=\"1\" class=\"dataframe\">\n",
       "  <thead>\n",
       "    <tr style=\"text-align: right;\">\n",
       "      <th></th>\n",
       "      <th>City_ID</th>\n",
       "      <th>City_Name</th>\n",
       "      <th>Start_Year</th>\n",
       "      <th>Country</th>\n",
       "      <th>Station_Name</th>\n",
       "      <th>Buildstart</th>\n",
       "      <th>Opening</th>\n",
       "    </tr>\n",
       "    <tr>\n",
       "      <th>Station_ID</th>\n",
       "      <th></th>\n",
       "      <th></th>\n",
       "      <th></th>\n",
       "      <th></th>\n",
       "      <th></th>\n",
       "      <th></th>\n",
       "      <th></th>\n",
       "    </tr>\n",
       "  </thead>\n",
       "  <tbody>\n",
       "    <tr>\n",
       "      <th>8421</th>\n",
       "      <td>211</td>\n",
       "      <td>Ottawa</td>\n",
       "      <td>2000</td>\n",
       "      <td>Canada</td>\n",
       "      <td>Carling</td>\n",
       "      <td>2000.0</td>\n",
       "      <td>2001.0</td>\n",
       "    </tr>\n",
       "    <tr>\n",
       "      <th>8422</th>\n",
       "      <td>211</td>\n",
       "      <td>Ottawa</td>\n",
       "      <td>2000</td>\n",
       "      <td>Canada</td>\n",
       "      <td>Bayview</td>\n",
       "      <td>2000.0</td>\n",
       "      <td>2001.0</td>\n",
       "    </tr>\n",
       "    <tr>\n",
       "      <th>6324</th>\n",
       "      <td>147</td>\n",
       "      <td>Chicago</td>\n",
       "      <td>1892</td>\n",
       "      <td>United States</td>\n",
       "      <td>Kedzie</td>\n",
       "      <td>0.0</td>\n",
       "      <td>1907.0</td>\n",
       "    </tr>\n",
       "    <tr>\n",
       "      <th>6317</th>\n",
       "      <td>147</td>\n",
       "      <td>Chicago</td>\n",
       "      <td>1892</td>\n",
       "      <td>United States</td>\n",
       "      <td>Irving Park</td>\n",
       "      <td>0.0</td>\n",
       "      <td>1907.0</td>\n",
       "    </tr>\n",
       "    <tr>\n",
       "      <th>6368</th>\n",
       "      <td>147</td>\n",
       "      <td>Chicago</td>\n",
       "      <td>1892</td>\n",
       "      <td>United States</td>\n",
       "      <td>Grand</td>\n",
       "      <td>0.0</td>\n",
       "      <td>1921.0</td>\n",
       "    </tr>\n",
       "  </tbody>\n",
       "</table>\n",
       "</div>"
      ],
      "text/plain": [
       "            City_ID City_Name  Start_Year        Country Station_Name  \\\n",
       "Station_ID                                                              \n",
       "8421            211    Ottawa        2000         Canada      Carling   \n",
       "8422            211    Ottawa        2000         Canada      Bayview   \n",
       "6324            147   Chicago        1892  United States       Kedzie   \n",
       "6317            147   Chicago        1892  United States  Irving Park   \n",
       "6368            147   Chicago        1892  United States        Grand   \n",
       "\n",
       "            Buildstart  Opening  \n",
       "Station_ID                       \n",
       "8421            2000.0   2001.0  \n",
       "8422            2000.0   2001.0  \n",
       "6324               0.0   1907.0  \n",
       "6317               0.0   1907.0  \n",
       "6368               0.0   1921.0  "
      ]
     },
     "execution_count": 14,
     "metadata": {},
     "output_type": "execute_result"
    }
   ],
   "source": [
    "# Create a filtered dataframe from specific columns\n",
    "master_df = pd.merge(city_transformed, station_rename, on='City_ID')\n",
    "\n",
    "\n",
    "master_df.set_index(\"Station_ID\", inplace=True)\n",
    "master_df.head()"
   ]
  },
  {
   "cell_type": "code",
   "execution_count": 15,
   "metadata": {},
   "outputs": [],
   "source": [
    "rds_connection_string = \"postgres:Rob11sts@localhost:5432/transit_systems\"\n",
    "engine = create_engine(f'postgresql://{rds_connection_string}')"
   ]
  },
  {
   "cell_type": "code",
   "execution_count": 17,
   "metadata": {},
   "outputs": [
    {
     "data": {
      "text/plain": [
       "['cities', 'stations', 'master']"
      ]
     },
     "execution_count": 17,
     "metadata": {},
     "output_type": "execute_result"
    }
   ],
   "source": [
    "engine.table_names()"
   ]
  },
  {
   "cell_type": "code",
   "execution_count": 19,
   "metadata": {},
   "outputs": [
    {
     "data": {
      "text/plain": [
       "Index(['Station_Name', 'Buildstart', 'Opening', 'City_ID'], dtype='object')"
      ]
     },
     "execution_count": 19,
     "metadata": {},
     "output_type": "execute_result"
    }
   ],
   "source": [
    "station_transformed.columns"
   ]
  },
  {
   "cell_type": "code",
   "execution_count": 16,
   "metadata": {},
   "outputs": [],
   "source": [
    "#load dataframe into Database-cities\n",
    "\n",
    "city_transformed.to_sql(name='cities', con=engine, if_exists='append', index=True)\n"
   ]
  },
  {
   "cell_type": "code",
   "execution_count": 17,
   "metadata": {},
   "outputs": [],
   "source": [
    "#load dataframe into Database-stations\n",
    "\n",
    "station_transformed.to_sql(name='stations', con=engine, if_exists='append', index=True)\n",
    "\n"
   ]
  },
  {
   "cell_type": "code",
   "execution_count": 24,
   "metadata": {},
   "outputs": [],
   "source": [
    "#load dataframe into Database-stations\n",
    "\n",
    "master_df.to_sql(name='master', con=engine, if_exists='append', index=True)"
   ]
  },
  {
   "cell_type": "code",
   "execution_count": null,
   "metadata": {},
   "outputs": [],
   "source": []
  }
 ],
 "metadata": {
  "kernelspec": {
   "display_name": "Python 3",
   "language": "python",
   "name": "python3"
  },
  "language_info": {
   "codemirror_mode": {
    "name": "ipython",
    "version": 3
   },
   "file_extension": ".py",
   "mimetype": "text/x-python",
   "name": "python",
   "nbconvert_exporter": "python",
   "pygments_lexer": "ipython3",
   "version": "3.7.3"
  }
 },
 "nbformat": 4,
 "nbformat_minor": 2
}
